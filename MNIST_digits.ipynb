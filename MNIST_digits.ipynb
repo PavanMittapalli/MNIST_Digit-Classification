{
 "cells": [
  {
   "cell_type": "markdown",
   "id": "cbe0a5cd",
   "metadata": {},
   "source": [
    "Importing the Dependencies"
   ]
  },
  {
   "cell_type": "code",
   "execution_count": 10,
   "id": "8d95920f",
   "metadata": {},
   "outputs": [],
   "source": [
    "import numpy as np\n",
    "import matplotlib.pyplot as plt\n",
    "import seaborn as sns\n",
    "import cv2   #computer vision for image recognisition\n",
    "from PIL import Image\n",
    "import tensorflow as tf\n",
    "tf.random.set_seed(36)\n",
    "from tensorflow import keras\n",
    "from keras.datasets import mnist\n",
    "from tensorflow.math import confusion_matrix"
   ]
  },
  {
   "cell_type": "markdown",
   "id": "53715d42",
   "metadata": {},
   "source": [
    "Loading MNIST data from keras.datasets"
   ]
  },
  {
   "cell_type": "code",
   "execution_count": 11,
   "id": "b3fbba84",
   "metadata": {},
   "outputs": [
    {
     "name": "stdout",
     "output_type": "stream",
     "text": [
      "Downloading data from https://storage.googleapis.com/tensorflow/tf-keras-datasets/mnist.npz\n",
      "11490434/11490434 [==============================] - 11s 1us/step\n"
     ]
    }
   ],
   "source": [
    "#Already processed data is available in keras datasets MNIST\n",
    "\n",
    "(x_train, y_train), (x_test, y_test) = mnist.load_data()"
   ]
  },
  {
   "cell_type": "code",
   "execution_count": 14,
   "id": "1b6c7bd8",
   "metadata": {},
   "outputs": [
    {
     "name": "stdout",
     "output_type": "stream",
     "text": [
      "(60000, 28, 28) (10000, 28, 28)\n",
      "(60000,) (10000,)\n"
     ]
    }
   ],
   "source": [
    "print(x_train.shape, x_test.shape)\n",
    "print(y_train.shape, y_test.shape)"
   ]
  },
  {
   "cell_type": "markdown",
   "id": "b29e8f14",
   "metadata": {},
   "source": [
    "Image dimension - > 28 * 28\n",
    "Gray scale images"
   ]
  },
  {
   "cell_type": "code",
   "execution_count": 20,
   "id": "4f5479c1",
   "metadata": {},
   "outputs": [
    {
     "name": "stdout",
     "output_type": "stream",
     "text": [
      "8\n"
     ]
    },
    {
     "data": {
      "image/png": "[encoded data removed]",
      "text/plain": [
       "<Figure size 432x288 with 1 Axes>"
      ]
     },
     "metadata": {
      "needs_background": "light"
     },
     "output_type": "display_data"
    }
   ],
   "source": [
    "#displaying image\n",
    "plt.imshow(x_train[55])\n",
    "\n",
    "#print the corresponding label\n",
    "print(y_train[55])"
   ]
  },
  {
   "cell_type": "code",
   "execution_count": 25,
   "id": "9132cd4a",
   "metadata": {},
   "outputs": [
    {
     "name": "stdout",
     "output_type": "stream",
     "text": [
      "[0 1 2 3 4 5 6 7 8 9]\n",
      "[0 1 2 3 4 5 6 7 8 9]\n"
     ]
    }
   ],
   "source": [
    "print(np.unique(y_train))\n",
    "print(np.unique(y_test))"
   ]
  },
  {
   "cell_type": "code",
   "execution_count": 26,
   "id": "363c9773",
   "metadata": {},
   "outputs": [],
   "source": [
    "#Scaling the values\n",
    "\n",
    "x_train = x_train/255\n",
    "x_test = x_test/255"
   ]
  },
  {
   "cell_type": "markdown",
   "id": "825d9b94",
   "metadata": {},
   "source": [
    "Building the Neural Network"
   ]
  },
  {
   "cell_type": "code",
   "execution_count": 27,
   "id": "f8643650",
   "metadata": {},
   "outputs": [],
   "source": [
    "#setting up layers of NN\n",
    "\n",
    "#We cannot process 28*28 data so flatten them all.\n",
    "model = keras.Sequential([keras.layers.Flatten(input_shape=(28,28)),\n",
    "                          keras.layers.Dense(50, activation='relu'),\n",
    "                          keras.layers.Dense(50, activation='relu'),\n",
    "                          keras.layers.Dense(10, activation='sigmoid')\n",
    "                          ])"
   ]
  },
  {
   "cell_type": "code",
   "execution_count": 29,
   "id": "40fb0cea",
   "metadata": {},
   "outputs": [],
   "source": [
    "#Compiling the Neural Network\n",
    "\n",
    "model.compile(optimizer='Adam',\n",
    "               loss = 'sparse_categorical_crossentropy',\n",
    "               metrics=['accuracy'])"
   ]
  },
  {
   "cell_type": "code",
   "execution_count": 30,
   "id": "3113b892",
   "metadata": {},
   "outputs": [
    {
     "name": "stdout",
     "output_type": "stream",
     "text": [
      "Epoch 1/10\n",
      "1875/1875 [==============================] - 5s 1ms/step - loss: 0.2893 - accuracy: 0.9166\n",
      "Epoch 2/10\n",
      "1875/1875 [==============================] - 3s 2ms/step - loss: 0.1374 - accuracy: 0.9590\n",
      "Epoch 3/10\n",
      "1875/1875 [==============================] - 3s 2ms/step - loss: 0.1032 - accuracy: 0.9686\n",
      "Epoch 4/10\n",
      "1875/1875 [==============================] - 3s 2ms/step - loss: 0.0846 - accuracy: 0.9734\n",
      "Epoch 5/10\n",
      "1875/1875 [==============================] - 4s 2ms/step - loss: 0.0701 - accuracy: 0.9781\n",
      "Epoch 6/10\n",
      "1875/1875 [==============================] - 4s 2ms/step - loss: 0.0605 - accuracy: 0.9811\n",
      "Epoch 7/10\n",
      "1875/1875 [==============================] - 4s 2ms/step - loss: 0.0519 - accuracy: 0.9835\n",
      "Epoch 8/10\n",
      "1875/1875 [==============================] - 4s 2ms/step - loss: 0.0469 - accuracy: 0.9843\n",
      "Epoch 9/10\n",
      "1875/1875 [==============================] - 4s 2ms/step - loss: 0.0397 - accuracy: 0.9869\n",
      "Epoch 10/10\n",
      "1875/1875 [==============================] - 4s 2ms/step - loss: 0.0365 - accuracy: 0.9884\n"
     ]
    },
    {
     "data": {
      "text/plain": [
       "<keras.callbacks.History at 0x23e1cfebc40>"
      ]
     },
     "execution_count": 30,
     "metadata": {},
     "output_type": "execute_result"
    }
   ],
   "source": [
    "#training the neural network\n",
    "\n",
    "model.fit(x_train,y_train, epochs = 10)"
   ]
  },
  {
   "cell_type": "code",
   "execution_count": 33,
   "id": "8ae11360",
   "metadata": {},
   "outputs": [
    {
     "name": "stdout",
     "output_type": "stream",
     "text": [
      "313/313 [==============================] - 0s 1ms/step - loss: 0.1025 - accuracy: 0.9739\n"
     ]
    }
   ],
   "source": [
    "#Test data Accuracy\n",
    "loss, accuracy = model.evaluate(x_test, y_test)"
   ]
  },
  {
   "cell_type": "code",
   "execution_count": 37,
   "id": "a12299e0",
   "metadata": {},
   "outputs": [
    {
     "name": "stdout",
     "output_type": "stream",
     "text": [
      "7\n"
     ]
    },
    {
     "data": {
      "image/png": "[encoded data removed]",
      "text/plain": [
       "<Figure size 432x288 with 1 Axes>"
      ]
     },
     "metadata": {
      "needs_background": "light"
     },
     "output_type": "display_data"
    }
   ],
   "source": [
    "plt.imshow(x_test[0])\n",
    "print(y_test[0])"
   ]
  },
  {
   "cell_type": "code",
   "execution_count": 38,
   "id": "13881e12",
   "metadata": {},
   "outputs": [
    {
     "name": "stdout",
     "output_type": "stream",
     "text": [
      "313/313 [==============================] - 0s 962us/step\n"
     ]
    }
   ],
   "source": [
    "y_pred = model.predict(x_test)"
   ]
  },
  {
   "cell_type": "markdown",
   "id": "11482ced",
   "metadata": {},
   "source": [
    "model.predict gives prediction probability of each class for that particular datapoint"
   ]
  },
  {
   "cell_type": "code",
   "execution_count": 41,
   "id": "c999865d",
   "metadata": {},
   "outputs": [
    {
     "name": "stdout",
     "output_type": "stream",
     "text": [
      "[1.04134426e-01 2.64764607e-01 4.41195984e+01 5.57995987e+01\n",
      " 1.12988474e-03 2.61211604e-01 6.48640366e-07 9.99999313e+01\n",
      " 1.95426106e+00 8.21935806e+01]\n"
     ]
    }
   ],
   "source": [
    "print(y_pred[0])"
   ]
  },
  {
   "cell_type": "code",
   "execution_count": 44,
   "id": "f32304fc",
   "metadata": {},
   "outputs": [
    {
     "name": "stdout",
     "output_type": "stream",
     "text": [
      "7\n"
     ]
    }
   ],
   "source": [
    "#converting pred probabilities to class label\n",
    "\n",
    "label_for_first_image = np.argmax(y_pred[0])\n",
    "print(label_for_first_image)"
   ]
  },
  {
   "cell_type": "code",
   "execution_count": 45,
   "id": "1de30eac",
   "metadata": {},
   "outputs": [],
   "source": [
    "pred_labels = []\n",
    "for i in y_pred:\n",
    "    pred_labels.append(np.argmax(i))"
   ]
  },
  {
   "cell_type": "code",
   "execution_count": 49,
   "id": "43b2889f",
   "metadata": {},
   "outputs": [
    {
     "data": {
      "text/plain": [
       "array([0, 1, 2, 3, 4, 5, 6, 7, 8, 9], dtype=int64)"
      ]
     },
     "execution_count": 49,
     "metadata": {},
     "output_type": "execute_result"
    }
   ],
   "source": [
    "np.unique(pred_labels)"
   ]
  },
  {
   "cell_type": "markdown",
   "id": "7eb97e2f",
   "metadata": {},
   "source": [
    "Confusion Matrix"
   ]
  },
  {
   "cell_type": "code",
   "execution_count": 50,
   "id": "9ee076fe",
   "metadata": {},
   "outputs": [],
   "source": [
    "conf_mat = confusion_matrix(y_test, pred_labels)"
   ]
  },
  {
   "cell_type": "code",
   "execution_count": 51,
   "id": "fd9efc24",
   "metadata": {},
   "outputs": [
    {
     "data": {
      "text/plain": [
       "<tf.Tensor: shape=(10, 10), dtype=int32, numpy=\n",
       "array([[ 963,    0,    1,    0,    2,    4,    5,    0,    2,    3],\n",
       "       [   0, 1128,    1,    0,    0,    1,    2,    1,    2,    0],\n",
       "       [   5,    6,  998,    4,    4,    0,    1,    6,    7,    1],\n",
       "       [   0,    0,    4,  991,    0,    4,    0,    5,    1,    5],\n",
       "       [   0,    0,    3,    1,  957,    0,    6,    3,    3,    9],\n",
       "       [   3,    0,    0,   16,    3,  852,    9,    1,    7,    1],\n",
       "       [   2,    4,    1,    1,    4,    1,  943,    0,    2,    0],\n",
       "       [   1,    7,    6,    3,    5,    0,    0,  992,    2,   12],\n",
       "       [   1,    0,    5,   10,    4,    4,    4,    3,  938,    5],\n",
       "       [   3,    4,    0,    7,   10,    0,    2,    4,    1,  978]])>"
      ]
     },
     "execution_count": 51,
     "metadata": {},
     "output_type": "execute_result"
    }
   ],
   "source": [
    "conf_mat"
   ]
  },
  {
   "cell_type": "code",
   "execution_count": 60,
   "id": "92526ab7",
   "metadata": {},
   "outputs": [
    {
     "data": {
      "text/plain": [
       "Text(0.5, 51.0, 'Predicted labels')"
      ]
     },
     "execution_count": 60,
     "metadata": {},
     "output_type": "execute_result"
    },
    {
     "data": {
      "image/png": "[encoded data removed]",
      "text/plain": [
       "<Figure size 1080x576 with 2 Axes>"
      ]
     },
     "metadata": {
      "needs_background": "light"
     },
     "output_type": "display_data"
    }
   ],
   "source": [
    "plt.figure(figsize=(15,8))\n",
    "sns.heatmap(conf_mat, annot=True, fmt='d', cmap ='Blues')\n",
    "plt.ylabel('True labels')\n",
    "plt.xlabel('Predicted labels')"
   ]
  },
  {
   "cell_type": "markdown",
   "id": "aebb6f7e",
   "metadata": {},
   "source": [
    "Predictive Model"
   ]
  },
  {
   "cell_type": "code",
   "execution_count": null,
   "id": "c89cf4bd",
   "metadata": {},
   "outputs": [],
   "source": [
    "# input_image_path = input('Path of the image to be predicted: ')\n",
    "\n",
    "# input_image = cv2.imread(input_image_path)\n",
    "\n",
    "# cv2_imshow(input_image)\n",
    "\n",
    "# grayscale = cv2.cvtColor(input_image, cv2.COLOR_RGB2GRAY)\n",
    "\n",
    "# input_image_resize = cv2.resize(grayscale, (28, 28))\n",
    "\n",
    "# input_image_resize = input_image_resize/255\n",
    "\n",
    "# image_reshaped = np.reshape(input_image_resize, [1,28,28])\n",
    "\n",
    "# input_prediction = model.predict(image_reshaped)\n",
    "\n",
    "# input_pred_label = np.argmax(input_prediction)\n",
    "\n",
    "# print('The Handwritten Digit is recognised as ', input_pred_label)"
   ]
  }
 ],
 "metadata": {
  "kernelspec": {
   "display_name": "Python 3.10.4 64-bit",
   "language": "python",
   "name": "python3"
  },
  "language_info": {
   "codemirror_mode": {
    "name": "ipython",
    "version": 3
   },
   "file_extension": ".py",
   "mimetype": "text/x-python",
   "name": "python",
   "nbconvert_exporter": "python",
   "pygments_lexer": "ipython3",
   "version": "3.10.4"
  },
  "vscode": {
   "interpreter": {
    "hash": "31671a60cee805c34c73116577b485118ff3a75c458d3004d49632c19702ac60"
   }
  }
 },
 "nbformat": 4,
 "nbformat_minor": 5
}
